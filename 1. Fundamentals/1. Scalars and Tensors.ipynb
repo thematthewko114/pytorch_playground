{
 "cells": [
  {
   "cell_type": "code",
   "execution_count": 2,
   "id": "19f8a95b",
   "metadata": {},
   "outputs": [
    {
     "name": "stdout",
     "output_type": "stream",
     "text": [
      "2.0.0\n",
      "We have a GPU!\n"
     ]
    }
   ],
   "source": [
    "import torch\n",
    "print(torch.__version__)\n",
    "if torch.cuda.is_available():\n",
    "    print('We have a GPU!')\n",
    "else:\n",
    "    print('Sorry, CPU only.')"
   ]
  },
  {
   "cell_type": "code",
   "execution_count": 3,
   "id": "bc452906",
   "metadata": {},
   "outputs": [
    {
     "data": {
      "text/plain": [
       "4"
      ]
     },
     "execution_count": 3,
     "metadata": {},
     "output_type": "execute_result"
    }
   ],
   "source": [
    "#scalars\n",
    "scalar = torch.tensor(4)\n",
    "scalar.item()"
   ]
  },
  {
   "cell_type": "code",
   "execution_count": 4,
   "id": "42ff5467",
   "metadata": {},
   "outputs": [
    {
     "name": "stdout",
     "output_type": "stream",
     "text": [
      "3\n",
      "torch.Size([2, 3, 3])\n",
      "torch.Size([3, 3])\n",
      "cpu\n",
      "torch.float32\n",
      "torch.float32\n",
      "torch.float16\n"
     ]
    }
   ],
   "source": [
    "#tensors\n",
    "vector_set = torch.tensor([[[1,2,3],[4,5,6],[7,8,9]], [[1,2,3],[4,5,6],[7,8,9]]])\n",
    "simple_vector_1 = torch.tensor([1, 2, 3], dtype=torch.float32)\n",
    "simple_vector_2 = torch.tensor([4.2, 5.6, 7.6])\n",
    "multiplied_vector_3 = simple_vector_1 * simple_vector_2\n",
    "print(vector_set.ndim)\n",
    "print(vector_set.shape)\n",
    "print(vector_set[0].size())\n",
    "print(vector_set.device)\n",
    "print(simple_vector_1.dtype)\n",
    "print(multiplied_vector_3.dtype) #default int64, if floating number exists, float32\n",
    "float16_tensor = torch.tensor([3.0, 6.0, 9.0], dtype=torch.float16, device=None, requires_grad=False)\n",
    "print(float16_tensor.dtype)"
   ]
  }
 ],
 "metadata": {
  "kernelspec": {
   "display_name": "Python 3 (ipykernel)",
   "language": "python",
   "name": "python3"
  },
  "language_info": {
   "codemirror_mode": {
    "name": "ipython",
    "version": 3
   },
   "file_extension": ".py",
   "mimetype": "text/x-python",
   "name": "python",
   "nbconvert_exporter": "python",
   "pygments_lexer": "ipython3",
   "version": "3.10.9"
  }
 },
 "nbformat": 4,
 "nbformat_minor": 5
}
