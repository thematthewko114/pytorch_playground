{
 "cells": [
  {
   "cell_type": "code",
   "execution_count": 3,
   "id": "6b4bbf92",
   "metadata": {},
   "outputs": [
    {
     "name": "stdout",
     "output_type": "stream",
     "text": [
      "2.0.0\n",
      "We have a GPU!\n"
     ]
    }
   ],
   "source": [
    "import numpy as np\n",
    "import torch\n",
    "print(torch.__version__)\n",
    "if torch.cuda.is_available():\n",
    "    print('We have a GPU!')\n",
    "else:\n",
    "    print('Sorry, CPU only.')"
   ]
  },
  {
   "cell_type": "code",
   "execution_count": 4,
   "id": "dd4a8dd8",
   "metadata": {},
   "outputs": [
    {
     "name": "stdout",
     "output_type": "stream",
     "text": [
      "[1. 2. 3. 4. 5. 6. 7.]\n",
      "tensor([1., 2., 3., 4., 5., 6., 7.])\n",
      "torch.float32\n",
      "[2. 3. 4. 5. 6. 7. 8.]\n",
      "tensor([1., 2., 3., 4., 5., 6., 7.])\n",
      "tensor([1., 1., 1., 1., 1., 1., 1., 1., 1., 1.])\n",
      "[1. 1. 1. 1. 1. 1. 1. 1. 1. 1.]\n",
      "tensor([2., 2., 2., 2., 2., 2., 2., 2., 2., 2.])\n",
      "[1. 1. 1. 1. 1. 1. 1. 1. 1. 1.]\n"
     ]
    }
   ],
   "source": [
    "#numpy to tensor\n",
    "\n",
    "array = np.arange(1.0, 8.0)\n",
    "tensor = torch.from_numpy(array).type(torch.float32)\n",
    "print(array)\n",
    "print(tensor)\n",
    "print(tensor.dtype)\n",
    "array = array+1\n",
    "print(array)\n",
    "print(tensor)\n",
    "\n",
    "#tensor to numpy\n",
    "tensor = torch.ones(10)\n",
    "numpy_tensor = tensor.numpy()\n",
    "print(tensor)\n",
    "print(numpy_tensor)\n",
    "tensor = tensor+1\n",
    "print(tensor)\n",
    "print(numpy_tensor)"
   ]
  },
  {
   "cell_type": "code",
   "execution_count": 13,
   "id": "b15521f5",
   "metadata": {},
   "outputs": [
    {
     "name": "stdout",
     "output_type": "stream",
     "text": [
      "tensor([[0.8741, 0.0560, 0.9659, 0.0073],\n",
      "        [0.3628, 0.4197, 0.6444, 0.0099],\n",
      "        [0.5925, 0.9631, 0.6958, 0.9157]])\n",
      "tensor([[0.5523, 0.2344, 0.3262, 0.4521],\n",
      "        [0.7020, 0.6274, 0.0945, 0.8525],\n",
      "        [0.3572, 0.7492, 0.3579, 0.5453]])\n",
      "tensor([[False, False, False, False],\n",
      "        [False, False, False, False],\n",
      "        [False, False, False, False]])\n",
      "tensor([[0.8398, 0.8042, 0.1213, 0.5309],\n",
      "        [0.6646, 0.4077, 0.0888, 0.2429],\n",
      "        [0.7053, 0.6216, 0.9188, 0.0185]])\n",
      "tensor([[0.8398, 0.8042, 0.1213, 0.5309],\n",
      "        [0.6646, 0.4077, 0.0888, 0.2429],\n",
      "        [0.7053, 0.6216, 0.9188, 0.0185]])\n",
      "tensor([[True, True, True, True],\n",
      "        [True, True, True, True],\n",
      "        [True, True, True, True]])\n"
     ]
    }
   ],
   "source": [
    "#reproducibility\n",
    "\n",
    "#without random seeds\n",
    "rand_tensor_1 = torch.rand(3, 4)\n",
    "rand_tensor_2 = torch.rand(3, 4)\n",
    "print(rand_tensor_1)\n",
    "print(rand_tensor_2)\n",
    "print(rand_tensor_1 == rand_tensor_2)\n",
    "\n",
    "#with random seeds\n",
    "SEED = 69\n",
    "torch.manual_seed(SEED)\n",
    "rand_tensor_1 = torch.rand(3, 4)\n",
    "torch.manual_seed(SEED)\n",
    "rand_tensor_2 = torch.rand(3, 4)\n",
    "print(rand_tensor_1)\n",
    "print(rand_tensor_2)\n",
    "print(rand_tensor_1 == rand_tensor_2)"
   ]
  },
  {
   "cell_type": "code",
   "execution_count": null,
   "id": "e2694c80",
   "metadata": {},
   "outputs": [],
   "source": []
  }
 ],
 "metadata": {
  "kernelspec": {
   "display_name": "Python 3 (ipykernel)",
   "language": "python",
   "name": "python3"
  },
  "language_info": {
   "codemirror_mode": {
    "name": "ipython",
    "version": 3
   },
   "file_extension": ".py",
   "mimetype": "text/x-python",
   "name": "python",
   "nbconvert_exporter": "python",
   "pygments_lexer": "ipython3",
   "version": "3.10.9"
  }
 },
 "nbformat": 4,
 "nbformat_minor": 5
}
