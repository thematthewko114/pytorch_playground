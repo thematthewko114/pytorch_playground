{
 "cells": [
  {
   "cell_type": "code",
   "execution_count": 1,
   "id": "e8fcbeb7",
   "metadata": {},
   "outputs": [
    {
     "name": "stdout",
     "output_type": "stream",
     "text": [
      "2.0.0\n",
      "We have a GPU!\n"
     ]
    }
   ],
   "source": [
    "import torch\n",
    "print(torch.__version__)\n",
    "if torch.cuda.is_available():\n",
    "    print('We have a GPU!')\n",
    "else:\n",
    "    print('Sorry, CPU only.')"
   ]
  },
  {
   "cell_type": "code",
   "execution_count": 3,
   "id": "90b8799c",
   "metadata": {},
   "outputs": [
    {
     "name": "stdout",
     "output_type": "stream",
     "text": [
      "tensor([[1, 4],\n",
      "        [2, 5],\n",
      "        [3, 6]])\n",
      "torch.Size([2, 3])\n",
      "torch.Size([3, 2])\n",
      "tensor([[[ 9, 12, 15],\n",
      "         [19, 26, 33]]])\n"
     ]
    }
   ],
   "source": [
    "#matrix transpose\n",
    "\n",
    "matrix22_1 = torch.tensor([[[1, 2], [3, 4]]])\n",
    "matrix23_1 = torch.tensor([[1, 2, 3], [4, 5, 6]])\n",
    "print(matrix23_1.T)\n",
    "print(matrix23_1.shape)\n",
    "print(matrix23_1.T.shape)\n",
    "print(torch.matmul(matrix22_1, matrix23_1))"
   ]
  },
  {
   "cell_type": "code",
   "execution_count": 4,
   "id": "649aa1e7",
   "metadata": {},
   "outputs": [
    {
     "name": "stdout",
     "output_type": "stream",
     "text": [
      "tensor(1)\n",
      "tensor(6)\n",
      "tensor(21)\n",
      "tensor(3.5000)\n"
     ]
    },
    {
     "ename": "TypeError",
     "evalue": "'Tensor' object is not callable",
     "output_type": "error",
     "traceback": [
      "\u001b[1;31m---------------------------------------------------------------------------\u001b[0m",
      "\u001b[1;31mTypeError\u001b[0m                                 Traceback (most recent call last)",
      "Cell \u001b[1;32mIn[4], line 8\u001b[0m\n\u001b[0;32m      6\u001b[0m \u001b[38;5;28mprint\u001b[39m(torch\u001b[38;5;241m.\u001b[39mmean(matrix23_1\u001b[38;5;241m.\u001b[39mtype(torch\u001b[38;5;241m.\u001b[39mfloat32)))\n\u001b[0;32m      7\u001b[0m \u001b[38;5;66;03m#no change in datatype can result in error\u001b[39;00m\n\u001b[1;32m----> 8\u001b[0m \u001b[38;5;28mprint\u001b[39m(torch\u001b[38;5;241m.\u001b[39mmean(\u001b[43mmatrix23_1\u001b[49m\u001b[43m(\u001b[49m\u001b[43m)\u001b[49m))\n",
      "\u001b[1;31mTypeError\u001b[0m: 'Tensor' object is not callable"
     ]
    }
   ],
   "source": [
    "#tensor attributes\n",
    "\n",
    "print(matrix23_1.min())\n",
    "print(matrix23_1.max())\n",
    "print(matrix23_1.sum())\n",
    "print(torch.mean(matrix23_1.type(torch.float32)))\n",
    "#no change in datatype can result in error\n",
    "print(torch.mean(matrix23_1()))"
   ]
  },
  {
   "cell_type": "code",
   "execution_count": 6,
   "id": "105cca6e",
   "metadata": {},
   "outputs": [
    {
     "name": "stdout",
     "output_type": "stream",
     "text": [
      "tensor(0)\n",
      "tensor(5)\n"
     ]
    }
   ],
   "source": [
    "#argmin/argmax: find the INDEX in the tensor that has the minimum/maximum value\n",
    "\n",
    "print(matrix23_1.argmin())\n",
    "print(matrix23_1.argmax())"
   ]
  },
  {
   "cell_type": "code",
   "execution_count": 7,
   "id": "048b6541",
   "metadata": {},
   "outputs": [
    {
     "name": "stdout",
     "output_type": "stream",
     "text": [
      "tensor([1., 2., 3., 4., 5., 6., 7., 8., 9.])\n",
      "tensor([[1., 2., 3.],\n",
      "        [4., 5., 6.],\n",
      "        [7., 8., 9.]])\n",
      "tensor([[3., 2., 3., 4., 5., 6., 7., 8., 9.]]) tensor([3., 2., 3., 4., 5., 6., 7., 8., 9.])\n"
     ]
    }
   ],
   "source": [
    "#reshaping (reshape tensors to defined shape)\n",
    "x = torch.arange(1., 10.)\n",
    "print(x)\n",
    "x_reshaped = x.reshape(3, 3) #can be reshaped to 1*9, 3*3 or 9*1 matrix\n",
    "print(x_reshaped)\n",
    "\n",
    "#view (return a view of an input tensor of certain shape but keep the same memory as original tensor)\n",
    "\n",
    "z = x.view(1, 9)\n",
    "z[:, 0] = 3\n",
    "print(z, x) #z shares the same mmory as x"
   ]
  },
  {
   "cell_type": "code",
   "execution_count": 8,
   "id": "9c4ef346",
   "metadata": {},
   "outputs": [
    {
     "name": "stdout",
     "output_type": "stream",
     "text": [
      "tensor([[3., 2., 3., 4., 5., 6., 7., 8., 9.],\n",
      "        [3., 2., 3., 4., 5., 6., 7., 8., 9.],\n",
      "        [3., 2., 3., 4., 5., 6., 7., 8., 9.]])\n",
      "torch.Size([3, 9])\n",
      "tensor([3., 2., 3., 4., 5., 6., 7., 8., 9., 3., 2., 3., 4., 5., 6., 7., 8., 9.,\n",
      "        3., 2., 3., 4., 5., 6., 7., 8., 9.])\n",
      "torch.Size([27])\n",
      "tensor([[3., 2., 3., 4., 5., 6., 7., 8., 9.],\n",
      "        [3., 2., 3., 4., 5., 6., 7., 8., 9.],\n",
      "        [3., 2., 3., 4., 5., 6., 7., 8., 9.]])\n",
      "torch.Size([3, 9])\n"
     ]
    }
   ],
   "source": [
    "#stacking (combine mutltiple tensors on top of each other or side by side)\n",
    "\n",
    "x_stacked  = torch.stack([x, x, x])\n",
    "x_hstacked = torch.hstack([x, x, x])\n",
    "x_vstacked = torch.vstack([x, x, x])\n",
    "print(x_stacked)\n",
    "print(x_stacked.shape)\n",
    "print(x_hstacked)\n",
    "print(x_hstacked.shape)\n",
    "print(x_vstacked)\n",
    "print(x_vstacked.shape)"
   ]
  },
  {
   "cell_type": "code",
   "execution_count": 9,
   "id": "a03d0190",
   "metadata": {},
   "outputs": [
    {
     "name": "stdout",
     "output_type": "stream",
     "text": [
      "tensor([[3., 2., 3., 4., 5., 6., 7., 8., 9.]])\n",
      "tensor([3., 2., 3., 4., 5., 6., 7., 8., 9.])\n",
      "tensor([[3.],\n",
      "        [2.],\n",
      "        [3.],\n",
      "        [4.],\n",
      "        [5.],\n",
      "        [6.],\n",
      "        [7.],\n",
      "        [8.],\n",
      "        [9.]])\n"
     ]
    }
   ],
   "source": [
    "#squeezing (remove all '1' dimensions from tensor) and unsqueezing (add a '1' dimension to a target tensor)\n",
    "\n",
    "x_reshaped = x.reshape(1, 9)\n",
    "print(x_reshaped)\n",
    "x_squeezed = x_reshaped.squeeze()\n",
    "print(x_squeezed)\n",
    "x_unsqueezed = x_squeezed.unsqueeze(dim=1)\n",
    "print(x_unsqueezed)"
   ]
  },
  {
   "cell_type": "code",
   "execution_count": 13,
   "id": "2ee59357",
   "metadata": {},
   "outputs": [
    {
     "name": "stdout",
     "output_type": "stream",
     "text": [
      "tensor([[[0.1607, 0.7667, 0.5178],\n",
      "         [0.1326, 0.5432, 0.6364],\n",
      "         [0.9319, 0.6327, 0.0786],\n",
      "         ...,\n",
      "         [0.7123, 0.3931, 0.6472],\n",
      "         [0.4296, 0.8524, 0.3174],\n",
      "         [0.7614, 0.4917, 0.6192]],\n",
      "\n",
      "        [[0.0974, 0.9017, 0.0955],\n",
      "         [0.4971, 0.8983, 0.2200],\n",
      "         [0.5274, 0.0284, 0.0601],\n",
      "         ...,\n",
      "         [0.5779, 0.5516, 0.6370],\n",
      "         [0.0339, 0.5058, 0.5921],\n",
      "         [0.2487, 0.4848, 0.6203]],\n",
      "\n",
      "        [[0.6667, 0.3570, 0.9490],\n",
      "         [0.6238, 0.6423, 0.9713],\n",
      "         [0.9419, 0.6970, 0.9941],\n",
      "         ...,\n",
      "         [0.4371, 0.9418, 0.9686],\n",
      "         [0.3538, 0.8086, 0.8804],\n",
      "         [0.9209, 0.1960, 0.6236]],\n",
      "\n",
      "        ...,\n",
      "\n",
      "        [[0.0060, 0.7011, 0.0954],\n",
      "         [0.5936, 0.2393, 0.1787],\n",
      "         [0.1892, 0.1470, 0.9705],\n",
      "         ...,\n",
      "         [0.9372, 0.8320, 0.1540],\n",
      "         [0.7428, 0.4183, 0.1888],\n",
      "         [0.5857, 0.7787, 0.2976]],\n",
      "\n",
      "        [[0.9045, 0.6649, 0.7446],\n",
      "         [0.3856, 0.7133, 0.7929],\n",
      "         [0.2586, 0.7430, 0.3360],\n",
      "         ...,\n",
      "         [0.6741, 0.5042, 0.8468],\n",
      "         [0.9382, 0.0066, 0.8660],\n",
      "         [0.1931, 0.1696, 0.1152]],\n",
      "\n",
      "        [[0.0055, 0.3690, 0.1213],\n",
      "         [0.9714, 0.5258, 1.0000],\n",
      "         [0.7581, 0.3176, 0.0143],\n",
      "         ...,\n",
      "         [0.6015, 0.1565, 0.4906],\n",
      "         [0.6541, 0.1704, 0.9090],\n",
      "         [0.6463, 0.2128, 0.5884]]])\n",
      "tensor([[[0.1607, 0.1326, 0.9319,  ..., 0.7123, 0.4296, 0.7614],\n",
      "         [0.0974, 0.4971, 0.5274,  ..., 0.5779, 0.0339, 0.2487],\n",
      "         [0.6667, 0.6238, 0.9419,  ..., 0.4371, 0.3538, 0.9209],\n",
      "         ...,\n",
      "         [0.0060, 0.5936, 0.1892,  ..., 0.9372, 0.7428, 0.5857],\n",
      "         [0.9045, 0.3856, 0.2586,  ..., 0.6741, 0.9382, 0.1931],\n",
      "         [0.0055, 0.9714, 0.7581,  ..., 0.6015, 0.6541, 0.6463]],\n",
      "\n",
      "        [[0.7667, 0.5432, 0.6327,  ..., 0.3931, 0.8524, 0.4917],\n",
      "         [0.9017, 0.8983, 0.0284,  ..., 0.5516, 0.5058, 0.4848],\n",
      "         [0.3570, 0.6423, 0.6970,  ..., 0.9418, 0.8086, 0.1960],\n",
      "         ...,\n",
      "         [0.7011, 0.2393, 0.1470,  ..., 0.8320, 0.4183, 0.7787],\n",
      "         [0.6649, 0.7133, 0.7430,  ..., 0.5042, 0.0066, 0.1696],\n",
      "         [0.3690, 0.5258, 0.3176,  ..., 0.1565, 0.1704, 0.2128]],\n",
      "\n",
      "        [[0.5178, 0.6364, 0.0786,  ..., 0.6472, 0.3174, 0.6192],\n",
      "         [0.0955, 0.2200, 0.0601,  ..., 0.6370, 0.5921, 0.6203],\n",
      "         [0.9490, 0.9713, 0.9941,  ..., 0.9686, 0.8804, 0.6236],\n",
      "         ...,\n",
      "         [0.0954, 0.1787, 0.9705,  ..., 0.1540, 0.1888, 0.2976],\n",
      "         [0.7446, 0.7929, 0.3360,  ..., 0.8468, 0.8660, 0.1152],\n",
      "         [0.1213, 1.0000, 0.0143,  ..., 0.4906, 0.9090, 0.5884]]])\n",
      "torch.Size([224, 224, 3])\n",
      "torch.Size([3, 224, 224])\n"
     ]
    }
   ],
   "source": [
    "#permute (return a view of input with dimensions permuted (swapped) in certain way)\n",
    "\n",
    "#image tensor: height, width, color channels (RGB)\n",
    "image_size_tensor = torch.rand(size=(224, 224, 3))\n",
    "print(image_size_tensor) #height, width, colour\n",
    "x_permuted = image_size_tensor.permute(2, 0, 1)\n",
    "print(x_permuted)\n",
    "print(image_size_tensor.size())\n",
    "print(x_permuted.size())"
   ]
  },
  {
   "cell_type": "code",
   "execution_count": 12,
   "id": "75ebcde1",
   "metadata": {},
   "outputs": [
    {
     "name": "stdout",
     "output_type": "stream",
     "text": [
      "tensor([[[1, 2, 3],\n",
      "         [4, 5, 6],\n",
      "         [7, 8, 9]]])\n",
      "tensor([[1, 2, 3],\n",
      "        [4, 5, 6],\n",
      "        [7, 8, 9]])\n",
      "tensor(5)\n",
      "tensor([[3, 6, 9]])\n",
      "tensor([4])\n",
      "tensor([4, 5, 6])\n",
      "tensor([3, 6, 9])\n"
     ]
    }
   ],
   "source": [
    "#indexing\n",
    "\n",
    "x = torch.arange(1, 10).reshape(1, 3, 3)\n",
    "print(x)\n",
    "print(x[0])\n",
    "print(x[0, 1, 1])\n",
    "print(x[:, :, 2])\n",
    "print(x[:, 1, 0])\n",
    "print(x[0, 1, :])\n",
    "print(x[0, :, 2])"
   ]
  },
  {
   "cell_type": "code",
   "execution_count": null,
   "id": "870abed0",
   "metadata": {},
   "outputs": [],
   "source": []
  }
 ],
 "metadata": {
  "kernelspec": {
   "display_name": "Python 3 (ipykernel)",
   "language": "python",
   "name": "python3"
  },
  "language_info": {
   "codemirror_mode": {
    "name": "ipython",
    "version": 3
   },
   "file_extension": ".py",
   "mimetype": "text/x-python",
   "name": "python",
   "nbconvert_exporter": "python",
   "pygments_lexer": "ipython3",
   "version": "3.10.9"
  }
 },
 "nbformat": 4,
 "nbformat_minor": 5
}
