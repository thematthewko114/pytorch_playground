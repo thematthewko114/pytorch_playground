{
 "cells": [
  {
   "cell_type": "code",
   "execution_count": 1,
   "id": "247df507",
   "metadata": {},
   "outputs": [
    {
     "name": "stdout",
     "output_type": "stream",
     "text": [
      "2.0.0\n",
      "We have a GPU!\n"
     ]
    }
   ],
   "source": [
    "import torch\n",
    "print(torch.__version__)\n",
    "if torch.cuda.is_available():\n",
    "    print('We have a GPU!')\n",
    "else:\n",
    "    print('Sorry, CPU only.')"
   ]
  },
  {
   "cell_type": "code",
   "execution_count": 2,
   "id": "7dcfd8fb",
   "metadata": {},
   "outputs": [
    {
     "name": "stdout",
     "output_type": "stream",
     "text": [
      "tensor([ 9., 24., 45.])\n",
      "torch.float32\n",
      "cpu\n"
     ]
    }
   ],
   "source": [
    "#tensor multiplication\n",
    "\n",
    "float16_tensor = torch.tensor([3.0, 6.0, 9.0], dtype=None, device=None, requires_grad=False)\n",
    "int32_tensor = torch.tensor([3, 4, 5], dtype=torch.long)\n",
    "multiplied_tensor = float16_tensor * int32_tensor\n",
    "print(multiplied_tensor)\n",
    "print(multiplied_tensor.dtype)\n",
    "print(multiplied_tensor.device)"
   ]
  },
  {
   "cell_type": "code",
   "execution_count": 3,
   "id": "83c0b25c",
   "metadata": {},
   "outputs": [
    {
     "name": "stdout",
     "output_type": "stream",
     "text": [
      "tensor([5.0000, 3.0000, 2.3333])\n",
      "torch.float32\n"
     ]
    }
   ],
   "source": [
    "#tensor division\n",
    "\n",
    "int32_tensor_2 = torch.tensor([5,6,7])\n",
    "int32_tensor_3 = torch.tensor([1,2,3])\n",
    "division_tensor = int32_tensor_2 / int32_tensor_3\n",
    "print(division_tensor)\n",
    "print(division_tensor.dtype)"
   ]
  },
  {
   "cell_type": "code",
   "execution_count": 5,
   "id": "6d72af1c",
   "metadata": {},
   "outputs": [
    {
     "name": "stdout",
     "output_type": "stream",
     "text": [
      "torch.float32\n",
      "torch.float16\n",
      "tensor([1.0996, 2.1992, 3.3008], dtype=torch.float16)\n"
     ]
    }
   ],
   "source": [
    "#tensor type conversion\n",
    "\n",
    "old_tensor = torch.tensor([1.1, 2.2, 3.3], dtype=torch.float32)\n",
    "print(old_tensor.dtype)\n",
    "new_tensor = old_tensor.type(torch.float16)\n",
    "print(new_tensor.dtype)\n",
    "print(new_tensor)"
   ]
  },
  {
   "cell_type": "code",
   "execution_count": 6,
   "id": "32a8ed35",
   "metadata": {},
   "outputs": [
    {
     "name": "stdout",
     "output_type": "stream",
     "text": [
      "tensor([1.0996, 2.1992, 3.3008], dtype=torch.float16)\n",
      "tensor([11., 22., 33.], dtype=torch.float16)\n",
      "tensor([11., 22., 33.], dtype=torch.float16)\n"
     ]
    }
   ],
   "source": [
    "#tensor manipulation (built-in): vector-scalar multiplication\n",
    "\n",
    "print(new_tensor)\n",
    "#use * in python unless specified for simplification (simple operation only)\n",
    "print(new_tensor*10)\n",
    "print(torch.mul(new_tensor, 10))"
   ]
  },
  {
   "cell_type": "code",
   "execution_count": 8,
   "id": "075fdacb",
   "metadata": {},
   "outputs": [
    {
     "name": "stdout",
     "output_type": "stream",
     "text": [
      "tensor([1.1000, 2.2000, 3.3000])\n",
      "tensor([ 1.2100,  4.8400, 10.8900])\n",
      "tensor(16.9400)\n",
      "tensor([[[19, 22],\n",
      "         [43, 50]]])\n",
      "CPU times: total: 0 ns\n",
      "Wall time: 4 ms\n"
     ]
    }
   ],
   "source": [
    "%%time\n",
    "\n",
    "#time for multiplication\n",
    "\n",
    "#matrix multiplcation: dot product\n",
    "print(old_tensor)\n",
    "print(old_tensor*old_tensor)\n",
    "print(torch.matmul(old_tensor, old_tensor))\n",
    "matrix22_1 = torch.tensor([[[1, 2], [3, 4]]])\n",
    "matrix22_2 = torch.tensor([[[5, 6], [7, 8]]])\n",
    "print(torch.matmul(matrix22_1, matrix22_2))"
   ]
  },
  {
   "cell_type": "code",
   "execution_count": 9,
   "id": "5608a213",
   "metadata": {},
   "outputs": [
    {
     "ename": "RuntimeError",
     "evalue": "mat1 and mat2 shapes cannot be multiplied (2x2 and 3x3)",
     "output_type": "error",
     "traceback": [
      "\u001b[1;31m---------------------------------------------------------------------------\u001b[0m",
      "\u001b[1;31mRuntimeError\u001b[0m                              Traceback (most recent call last)",
      "Cell \u001b[1;32mIn[9], line 3\u001b[0m\n\u001b[0;32m      1\u001b[0m \u001b[38;5;66;03m#errors in matrix multiplication\u001b[39;00m\n\u001b[0;32m      2\u001b[0m matrix33_1 \u001b[38;5;241m=\u001b[39m torch\u001b[38;5;241m.\u001b[39mtensor([[\u001b[38;5;241m1\u001b[39m, \u001b[38;5;241m2\u001b[39m, \u001b[38;5;241m3\u001b[39m], [\u001b[38;5;241m4\u001b[39m, \u001b[38;5;241m5\u001b[39m, \u001b[38;5;241m6\u001b[39m], [\u001b[38;5;241m7\u001b[39m, \u001b[38;5;241m8\u001b[39m, \u001b[38;5;241m9\u001b[39m]])\n\u001b[1;32m----> 3\u001b[0m \u001b[38;5;28mprint\u001b[39m(\u001b[43mtorch\u001b[49m\u001b[38;5;241;43m.\u001b[39;49m\u001b[43mmatmul\u001b[49m\u001b[43m(\u001b[49m\u001b[43mmatrix22_1\u001b[49m\u001b[43m,\u001b[49m\u001b[43m \u001b[49m\u001b[43mmatrix33_1\u001b[49m\u001b[43m)\u001b[49m)\n",
      "\u001b[1;31mRuntimeError\u001b[0m: mat1 and mat2 shapes cannot be multiplied (2x2 and 3x3)"
     ]
    }
   ],
   "source": [
    "#errors in matrix multiplication\n",
    "matrix33_1 = torch.tensor([[1, 2, 3], [4, 5, 6], [7, 8, 9]])\n",
    "print(torch.matmul(matrix22_1, matrix33_1))"
   ]
  },
  {
   "cell_type": "code",
   "execution_count": null,
   "id": "d3b2eefa",
   "metadata": {},
   "outputs": [],
   "source": []
  }
 ],
 "metadata": {
  "kernelspec": {
   "display_name": "Python 3 (ipykernel)",
   "language": "python",
   "name": "python3"
  },
  "language_info": {
   "codemirror_mode": {
    "name": "ipython",
    "version": 3
   },
   "file_extension": ".py",
   "mimetype": "text/x-python",
   "name": "python",
   "nbconvert_exporter": "python",
   "pygments_lexer": "ipython3",
   "version": "3.10.9"
  }
 },
 "nbformat": 4,
 "nbformat_minor": 5
}
