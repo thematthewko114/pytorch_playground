{
 "cells": [
  {
   "cell_type": "code",
   "execution_count": 2,
   "id": "19f8a95b",
   "metadata": {},
   "outputs": [
    {
     "name": "stdout",
     "output_type": "stream",
     "text": [
      "2.0.0\n",
      "We have a GPU!\n"
     ]
    }
   ],
   "source": [
    "import torch\n",
    "print(torch.__version__)\n",
    "if torch.cuda.is_available():\n",
    "    print('We have a GPU!')\n",
    "else:\n",
    "    print('Sorry, CPU only.')"
   ]
  },
  {
   "cell_type": "code",
   "execution_count": 3,
   "id": "bc452906",
   "metadata": {},
   "outputs": [
    {
     "data": {
      "text/plain": [
       "4"
      ]
     },
     "execution_count": 3,
     "metadata": {},
     "output_type": "execute_result"
    }
   ],
   "source": [
    "scalar = torch.tensor(4)\n",
    "scalar.item()"
   ]
  },
  {
   "cell_type": "code",
   "execution_count": 4,
   "id": "42ff5467",
   "metadata": {},
   "outputs": [
    {
     "name": "stdout",
     "output_type": "stream",
     "text": [
      "3\n",
      "torch.Size([2, 3, 3])\n",
      "torch.Size([3, 3])\n",
      "cpu\n",
      "torch.float32\n",
      "torch.float32\n",
      "torch.float16\n"
     ]
    }
   ],
   "source": [
    "#tensor\n",
    "vector_set = torch.tensor([[[1,2,3],[4,5,6],[7,8,9]], [[1,2,3],[4,5,6],[7,8,9]]])\n",
    "simple_vector_1 = torch.tensor([1, 2, 3], dtype=torch.float32)\n",
    "simple_vector_2 = torch.tensor([4.2, 5.6, 7.6])\n",
    "multiplied_vector_3 = simple_vector_1 * simple_vector_2\n",
    "print(vector_set.ndim)\n",
    "print(vector_set.shape)\n",
    "print(vector_set[0].size())\n",
    "print(vector_set.device)\n",
    "print(simple_vector_1.dtype)\n",
    "print(multiplied_vector_3.dtype) #default int64, if floating number exists, float32\n",
    "float16_tensor = torch.tensor([3.0, 6.0, 9.0], dtype=torch.float16, device=None, requires_grad=False)\n",
    "print(float16_tensor.dtype)"
   ]
  },
  {
   "cell_type": "code",
   "execution_count": 6,
   "id": "71352f65",
   "metadata": {},
   "outputs": [
    {
     "data": {
      "text/plain": [
       "torch.Size([2, 3, 3])"
      ]
     },
     "execution_count": 6,
     "metadata": {},
     "output_type": "execute_result"
    }
   ],
   "source": [
    "vector_set.shape"
   ]
  },
  {
   "cell_type": "code",
   "execution_count": 7,
   "id": "de5a7ff6",
   "metadata": {},
   "outputs": [
    {
     "name": "stdout",
     "output_type": "stream",
     "text": [
      "tensor([[0.6644, 0.2523, 0.0863],\n",
      "        [0.6740, 0.0029, 0.9383]])\n"
     ]
    }
   ],
   "source": [
    "#creating tensors\n",
    "tensor_random = torch.rand(2, 3)\n",
    "print(tensor_random)\n",
    "#image tensor: height, width, color channels (RGB)\n",
    "image_size_tensor = torch.rand(size=(224, 224, 3))"
   ]
  },
  {
   "cell_type": "code",
   "execution_count": 8,
   "id": "3ec63283",
   "metadata": {},
   "outputs": [
    {
     "name": "stdout",
     "output_type": "stream",
     "text": [
      "tensor([[1, 2],\n",
      "        [3, 4]])\n",
      "Shape of tensor: torch.Size([2, 2])\n",
      "Datatype of tensor: torch.int64\n",
      "Device tensor is stored on: cpu\n"
     ]
    }
   ],
   "source": [
    "data = [[1, 2],[3, 4]]\n",
    "x_data = torch.tensor(data)\n",
    "print(x_data)\n",
    "print(f\"Shape of tensor: {x_data.shape}\")\n",
    "print(f\"Datatype of tensor: {x_data.dtype}\")\n",
    "print(f\"Device tensor is stored on: {x_data.device}\")"
   ]
  },
  {
   "cell_type": "code",
   "execution_count": 9,
   "id": "920b5905",
   "metadata": {},
   "outputs": [
    {
     "data": {
      "text/plain": [
       "torch.float32"
      ]
     },
     "execution_count": 9,
     "metadata": {},
     "output_type": "execute_result"
    }
   ],
   "source": [
    "#zeros tensor\n",
    "zero_tensor = torch.zeros(size=(2, 3))\n",
    "#ones tensor\n",
    "ones_tensor = torch.ones(size=(2, 3))\n",
    "ones_tensor.dtype"
   ]
  },
  {
   "cell_type": "code",
   "execution_count": 10,
   "id": "8e3c9a07",
   "metadata": {},
   "outputs": [
    {
     "data": {
      "text/plain": [
       "tensor([ 2,  4,  6,  8, 10])"
      ]
     },
     "execution_count": 10,
     "metadata": {},
     "output_type": "execute_result"
    }
   ],
   "source": [
    "#range and steps\n",
    "range_tensor = torch.arange(1, 10)\n",
    "range_tensor\n",
    "step_tensor = torch.arange(start = 2, end = 11, step = 2)\n",
    "step_tensor"
   ]
  },
  {
   "cell_type": "code",
   "execution_count": 11,
   "id": "a3248644",
   "metadata": {},
   "outputs": [
    {
     "data": {
      "text/plain": [
       "torch.float32"
      ]
     },
     "execution_count": 11,
     "metadata": {},
     "output_type": "execute_result"
    }
   ],
   "source": [
    "#tensor data type\n",
    "float16_tensor = torch.tensor([3.0, 6.0, 9.0], dtype=None, device=None, requires_grad=False)\n",
    "float16_tensor.dtype"
   ]
  },
  {
   "cell_type": "code",
   "execution_count": 12,
   "id": "232d10fe",
   "metadata": {},
   "outputs": [
    {
     "name": "stdout",
     "output_type": "stream",
     "text": [
      "torch.Size([3])\n",
      "torch.Size([3])\n"
     ]
    }
   ],
   "source": [
    "#data type coersion and check shape\n",
    "int32_tensor = torch.tensor([3, 4, 5], dtype=torch.long)\n",
    "print(int32_tensor.size())\n",
    "print(int32_tensor.shape)"
   ]
  },
  {
   "cell_type": "code",
   "execution_count": 13,
   "id": "c9c324ff",
   "metadata": {},
   "outputs": [
    {
     "name": "stdout",
     "output_type": "stream",
     "text": [
      "tensor([ 9., 24., 45.])\n",
      "torch.float32\n",
      "cpu\n"
     ]
    }
   ],
   "source": [
    "multiplied_tensor = float16_tensor * int32_tensor\n",
    "print(multiplied_tensor)\n",
    "print(multiplied_tensor.dtype)\n",
    "print(multiplied_tensor.device)"
   ]
  },
  {
   "cell_type": "code",
   "execution_count": 14,
   "id": "57ed5ac0",
   "metadata": {},
   "outputs": [
    {
     "name": "stdout",
     "output_type": "stream",
     "text": [
      "tensor([5.0000, 3.0000, 2.3333])\n",
      "torch.float32\n"
     ]
    }
   ],
   "source": [
    "int32_tensor_2 = torch.tensor([5,6,7])\n",
    "int32_tensor_3 = torch.tensor([1,2,3])\n",
    "division_tensor = int32_tensor_2 / int32_tensor_3\n",
    "print(division_tensor)\n",
    "print(division_tensor.dtype)"
   ]
  },
  {
   "cell_type": "code",
   "execution_count": 15,
   "id": "de87791b",
   "metadata": {},
   "outputs": [
    {
     "name": "stdout",
     "output_type": "stream",
     "text": [
      "torch.float32\n",
      "torch.float16\n",
      "tensor([1.0996, 2.1992, 3.3008], dtype=torch.float16)\n"
     ]
    }
   ],
   "source": [
    "#tensor type conversion\n",
    "old_tensor = torch.tensor([1.1, 2.2, 3.3], dtype=torch.float32)\n",
    "print(old_tensor.dtype)\n",
    "new_tensor = old_tensor.type(torch.float16)\n",
    "print(new_tensor.dtype)\n",
    "print(new_tensor)"
   ]
  },
  {
   "cell_type": "code",
   "execution_count": 16,
   "id": "36274b35",
   "metadata": {},
   "outputs": [
    {
     "name": "stdout",
     "output_type": "stream",
     "text": [
      "tensor([1.0996, 2.1992, 3.3008], dtype=torch.float16)\n",
      "tensor([11., 22., 33.], dtype=torch.float16)\n",
      "tensor([11., 22., 33.], dtype=torch.float16)\n"
     ]
    }
   ],
   "source": [
    "#tensor manipulation (built-in): vector-scalar multiplication\n",
    "print(new_tensor)\n",
    "#use * in python unless specified for simplification (simple operation only)\n",
    "print(new_tensor*10)\n",
    "print(torch.mul(new_tensor, 10))"
   ]
  },
  {
   "cell_type": "code",
   "execution_count": 17,
   "id": "9a076fd2",
   "metadata": {},
   "outputs": [
    {
     "name": "stdout",
     "output_type": "stream",
     "text": [
      "tensor([1.1000, 2.2000, 3.3000])\n",
      "tensor([ 1.2100,  4.8400, 10.8900])\n",
      "tensor(16.9400)\n",
      "tensor([[[19, 22],\n",
      "         [43, 50]]])\n",
      "CPU times: total: 0 ns\n",
      "Wall time: 1.97 ms\n"
     ]
    }
   ],
   "source": [
    "%%time\n",
    "#matrix multiplcation: dot product\n",
    "print(old_tensor)\n",
    "print(old_tensor*old_tensor)\n",
    "print(torch.matmul(old_tensor, old_tensor))\n",
    "matrix22_1 = torch.tensor([[[1, 2], [3, 4]]])\n",
    "matrix22_2 = torch.tensor([[[5, 6], [7, 8]]])\n",
    "print(torch.matmul(matrix22_1, matrix22_2))"
   ]
  },
  {
   "cell_type": "code",
   "execution_count": 18,
   "id": "f7a9afc1",
   "metadata": {},
   "outputs": [
    {
     "ename": "RuntimeError",
     "evalue": "mat1 and mat2 shapes cannot be multiplied (2x2 and 3x3)",
     "output_type": "error",
     "traceback": [
      "\u001b[1;31m---------------------------------------------------------------------------\u001b[0m",
      "\u001b[1;31mRuntimeError\u001b[0m                              Traceback (most recent call last)",
      "Cell \u001b[1;32mIn[18], line 3\u001b[0m\n\u001b[0;32m      1\u001b[0m \u001b[38;5;66;03m#errors in matrix multiplication\u001b[39;00m\n\u001b[0;32m      2\u001b[0m matrix33_1 \u001b[38;5;241m=\u001b[39m torch\u001b[38;5;241m.\u001b[39mtensor([[\u001b[38;5;241m1\u001b[39m, \u001b[38;5;241m2\u001b[39m, \u001b[38;5;241m3\u001b[39m], [\u001b[38;5;241m4\u001b[39m, \u001b[38;5;241m5\u001b[39m, \u001b[38;5;241m6\u001b[39m], [\u001b[38;5;241m7\u001b[39m, \u001b[38;5;241m8\u001b[39m, \u001b[38;5;241m9\u001b[39m]])\n\u001b[1;32m----> 3\u001b[0m \u001b[38;5;28mprint\u001b[39m(\u001b[43mtorch\u001b[49m\u001b[38;5;241;43m.\u001b[39;49m\u001b[43mmatmul\u001b[49m\u001b[43m(\u001b[49m\u001b[43mmatrix22_1\u001b[49m\u001b[43m,\u001b[49m\u001b[43m \u001b[49m\u001b[43mmatrix33_1\u001b[49m\u001b[43m)\u001b[49m)\n",
      "\u001b[1;31mRuntimeError\u001b[0m: mat1 and mat2 shapes cannot be multiplied (2x2 and 3x3)"
     ]
    }
   ],
   "source": [
    "#errors in matrix multiplication\n",
    "matrix33_1 = torch.tensor([[1, 2, 3], [4, 5, 6], [7, 8, 9]])\n",
    "print(torch.matmul(matrix22_1, matrix33_1))"
   ]
  },
  {
   "cell_type": "code",
   "execution_count": 21,
   "id": "bd3ee2c8",
   "metadata": {},
   "outputs": [
    {
     "name": "stdout",
     "output_type": "stream",
     "text": [
      "tensor([[1, 4],\n",
      "        [2, 5],\n",
      "        [3, 6]])\n",
      "torch.Size([2, 3])\n",
      "torch.Size([3, 2])\n",
      "tensor([[[ 9, 12, 15],\n",
      "         [19, 26, 33]]])\n"
     ]
    }
   ],
   "source": [
    "#matrix transpose\n",
    "matrix23_1 = torch.tensor([[1, 2, 3], [4, 5, 6]])\n",
    "print(matrix23_1.T)\n",
    "print(matrix23_1.shape)\n",
    "print(matrix23_1.T.shape)\n",
    "print(torch.matmul(matrix22_1, matrix23_1))"
   ]
  },
  {
   "cell_type": "code",
   "execution_count": 36,
   "id": "0bbe8640",
   "metadata": {},
   "outputs": [
    {
     "name": "stdout",
     "output_type": "stream",
     "text": [
      "tensor(1)\n",
      "tensor(6)\n",
      "tensor(21)\n",
      "tensor(3.5000)\n"
     ]
    },
    {
     "ename": "TypeError",
     "evalue": "'Tensor' object is not callable",
     "output_type": "error",
     "traceback": [
      "\u001b[1;31m---------------------------------------------------------------------------\u001b[0m",
      "\u001b[1;31mTypeError\u001b[0m                                 Traceback (most recent call last)",
      "Cell \u001b[1;32mIn[36], line 7\u001b[0m\n\u001b[0;32m      5\u001b[0m \u001b[38;5;28mprint\u001b[39m(torch\u001b[38;5;241m.\u001b[39mmean(matrix23_1\u001b[38;5;241m.\u001b[39mtype(torch\u001b[38;5;241m.\u001b[39mfloat32)))\n\u001b[0;32m      6\u001b[0m \u001b[38;5;66;03m#no change in datatype can result in error\u001b[39;00m\n\u001b[1;32m----> 7\u001b[0m \u001b[38;5;28mprint\u001b[39m(torch\u001b[38;5;241m.\u001b[39mmean(\u001b[43mmatrix23_1\u001b[49m\u001b[43m(\u001b[49m\u001b[43m)\u001b[49m))\n",
      "\u001b[1;31mTypeError\u001b[0m: 'Tensor' object is not callable"
     ]
    }
   ],
   "source": [
    "#tensor attributes\n",
    "print(matrix23_1.min())\n",
    "print(matrix23_1.max())\n",
    "print(matrix23_1.sum())\n",
    "print(torch.mean(matrix23_1.type(torch.float32)))\n",
    "#no change in datatype can result in error\n",
    "print(torch.mean(matrix23_1()))"
   ]
  },
  {
   "cell_type": "code",
   "execution_count": 38,
   "id": "94b92ff9",
   "metadata": {},
   "outputs": [
    {
     "name": "stdout",
     "output_type": "stream",
     "text": [
      "tensor(0)\n",
      "tensor(5)\n"
     ]
    }
   ],
   "source": [
    "#argmin/argmax: find the index in the tensor that has the minimum/maximum value\n",
    "print(matrix23_1.argmin())\n",
    "print(matrix23_1.argmax())"
   ]
  },
  {
   "cell_type": "code",
   "execution_count": 54,
   "id": "acc6480e",
   "metadata": {},
   "outputs": [
    {
     "name": "stdout",
     "output_type": "stream",
     "text": [
      "tensor([1., 2., 3., 4., 5., 6., 7., 8., 9.])\n",
      "tensor([[1., 2., 3.],\n",
      "        [4., 5., 6.],\n",
      "        [7., 8., 9.]])\n",
      "tensor([[3., 2., 3., 4., 5., 6., 7., 8., 9.]]) tensor([3., 2., 3., 4., 5., 6., 7., 8., 9.])\n"
     ]
    }
   ],
   "source": [
    "x = torch.arange(1., 10.)\n",
    "print(x)\n",
    "#reshaping (reshape tensors to defined shape), view (return a view of an input tensor of certain shape but keep the same memory as original tensor)\n",
    "x_reshaped = x.reshape(3, 3) #can be reshaped to 1*9, 3*3 or 9*1 matrix\n",
    "print(x_reshaped)\n",
    "z = x.view(1, 9)\n",
    "z[:, 0] = 3\n",
    "print(z, x) #z shares the same mmory as x"
   ]
  },
  {
   "cell_type": "code",
   "execution_count": 58,
   "id": "87f5d1e6",
   "metadata": {},
   "outputs": [
    {
     "name": "stdout",
     "output_type": "stream",
     "text": [
      "tensor([[3., 2., 3., 4., 5., 6., 7., 8., 9.],\n",
      "        [3., 2., 3., 4., 5., 6., 7., 8., 9.],\n",
      "        [3., 2., 3., 4., 5., 6., 7., 8., 9.]])\n",
      "torch.Size([3, 9])\n",
      "tensor([3., 2., 3., 4., 5., 6., 7., 8., 9., 3., 2., 3., 4., 5., 6., 7., 8., 9.,\n",
      "        3., 2., 3., 4., 5., 6., 7., 8., 9.])\n",
      "torch.Size([27])\n",
      "tensor([[3., 2., 3., 4., 5., 6., 7., 8., 9.],\n",
      "        [3., 2., 3., 4., 5., 6., 7., 8., 9.],\n",
      "        [3., 2., 3., 4., 5., 6., 7., 8., 9.]])\n",
      "torch.Size([3, 9])\n"
     ]
    }
   ],
   "source": [
    "#stacking (combine mutltiple tensors on top of each other or side by side)\n",
    "x_stacked  = torch.stack([x, x, x])\n",
    "x_hstacked = torch.hstack([x, x, x])\n",
    "x_vstacked = torch.vstack([x, x, x])\n",
    "print(x_stacked)\n",
    "print(x_stacked.shape)\n",
    "print(x_hstacked)\n",
    "print(x_hstacked.shape)\n",
    "print(x_vstacked)\n",
    "print(x_vstacked.shape)"
   ]
  },
  {
   "cell_type": "code",
   "execution_count": 63,
   "id": "3d50af60",
   "metadata": {},
   "outputs": [
    {
     "name": "stdout",
     "output_type": "stream",
     "text": [
      "tensor([[3., 2., 3., 4., 5., 6., 7., 8., 9.]])\n",
      "tensor([3., 2., 3., 4., 5., 6., 7., 8., 9.])\n",
      "tensor([[3.],\n",
      "        [2.],\n",
      "        [3.],\n",
      "        [4.],\n",
      "        [5.],\n",
      "        [6.],\n",
      "        [7.],\n",
      "        [8.],\n",
      "        [9.]])\n"
     ]
    }
   ],
   "source": [
    "#squeezing (remove all '1' dimensions from tensor) and unsqueezing (add a '1' dimension to a target tensor)\n",
    "x_reshaped = x.reshape(1, 9)\n",
    "print(x_reshaped)\n",
    "x_squeezed = x_reshaped.squeeze()\n",
    "print(x_squeezed)\n",
    "x_unsqueezed = x_squeezed.unsqueeze(dim=1)\n",
    "print(x_unsqueezed)"
   ]
  },
  {
   "cell_type": "code",
   "execution_count": 69,
   "id": "5a72ba82",
   "metadata": {},
   "outputs": [
    {
     "name": "stdout",
     "output_type": "stream",
     "text": [
      "tensor([[[0.2416, 0.0934, 0.9053],\n",
      "         [0.5098, 0.4431, 0.8598],\n",
      "         [0.1903, 0.0632, 0.7153],\n",
      "         ...,\n",
      "         [0.8239, 0.5739, 0.8050],\n",
      "         [0.2270, 0.5444, 0.6461],\n",
      "         [0.1357, 0.8988, 0.8580]],\n",
      "\n",
      "        [[0.0722, 0.2897, 0.4688],\n",
      "         [0.2544, 0.6159, 0.8463],\n",
      "         [0.3489, 0.5832, 0.7665],\n",
      "         ...,\n",
      "         [0.1973, 0.3163, 0.1076],\n",
      "         [0.0973, 0.9661, 0.4149],\n",
      "         [0.6374, 0.8460, 0.4623]],\n",
      "\n",
      "        [[0.1865, 0.0222, 0.8014],\n",
      "         [0.3009, 0.3172, 0.0399],\n",
      "         [0.7620, 0.7147, 0.5854],\n",
      "         ...,\n",
      "         [0.2592, 0.4385, 0.5496],\n",
      "         [0.3808, 0.9676, 0.9981],\n",
      "         [0.6808, 0.6183, 0.8669]],\n",
      "\n",
      "        ...,\n",
      "\n",
      "        [[0.6926, 0.9068, 0.1222],\n",
      "         [0.4959, 0.6266, 0.4768],\n",
      "         [0.1589, 0.4419, 0.4530],\n",
      "         ...,\n",
      "         [0.0818, 0.7308, 0.8948],\n",
      "         [0.4867, 0.9127, 0.4676],\n",
      "         [0.0917, 0.5930, 0.6689]],\n",
      "\n",
      "        [[0.7684, 0.9492, 0.0095],\n",
      "         [0.8020, 0.6667, 0.5986],\n",
      "         [0.8808, 0.4329, 0.9431],\n",
      "         ...,\n",
      "         [0.2833, 0.0766, 0.4429],\n",
      "         [0.2428, 0.5556, 0.5734],\n",
      "         [0.8799, 0.5955, 0.6889]],\n",
      "\n",
      "        [[0.6964, 0.4467, 0.4913],\n",
      "         [0.7622, 0.6906, 0.6301],\n",
      "         [0.2253, 0.1682, 0.1482],\n",
      "         ...,\n",
      "         [0.9627, 0.0951, 0.9764],\n",
      "         [0.4025, 0.5554, 0.0619],\n",
      "         [0.0435, 0.7969, 0.7106]]])\n",
      "tensor([[[0.2416, 0.5098, 0.1903,  ..., 0.8239, 0.2270, 0.1357],\n",
      "         [0.0722, 0.2544, 0.3489,  ..., 0.1973, 0.0973, 0.6374],\n",
      "         [0.1865, 0.3009, 0.7620,  ..., 0.2592, 0.3808, 0.6808],\n",
      "         ...,\n",
      "         [0.6926, 0.4959, 0.1589,  ..., 0.0818, 0.4867, 0.0917],\n",
      "         [0.7684, 0.8020, 0.8808,  ..., 0.2833, 0.2428, 0.8799],\n",
      "         [0.6964, 0.7622, 0.2253,  ..., 0.9627, 0.4025, 0.0435]],\n",
      "\n",
      "        [[0.0934, 0.4431, 0.0632,  ..., 0.5739, 0.5444, 0.8988],\n",
      "         [0.2897, 0.6159, 0.5832,  ..., 0.3163, 0.9661, 0.8460],\n",
      "         [0.0222, 0.3172, 0.7147,  ..., 0.4385, 0.9676, 0.6183],\n",
      "         ...,\n",
      "         [0.9068, 0.6266, 0.4419,  ..., 0.7308, 0.9127, 0.5930],\n",
      "         [0.9492, 0.6667, 0.4329,  ..., 0.0766, 0.5556, 0.5955],\n",
      "         [0.4467, 0.6906, 0.1682,  ..., 0.0951, 0.5554, 0.7969]],\n",
      "\n",
      "        [[0.9053, 0.8598, 0.7153,  ..., 0.8050, 0.6461, 0.8580],\n",
      "         [0.4688, 0.8463, 0.7665,  ..., 0.1076, 0.4149, 0.4623],\n",
      "         [0.8014, 0.0399, 0.5854,  ..., 0.5496, 0.9981, 0.8669],\n",
      "         ...,\n",
      "         [0.1222, 0.4768, 0.4530,  ..., 0.8948, 0.4676, 0.6689],\n",
      "         [0.0095, 0.5986, 0.9431,  ..., 0.4429, 0.5734, 0.6889],\n",
      "         [0.4913, 0.6301, 0.1482,  ..., 0.9764, 0.0619, 0.7106]]])\n",
      "torch.Size([224, 224, 3])\n",
      "torch.Size([3, 224, 224])\n"
     ]
    }
   ],
   "source": [
    "#permute (return a view of input with dimensions permuted (swapped) in certain way)\n",
    "print(image_size_tensor) #height, width, colour\n",
    "x_permuted = image_size_tensor.permute(2, 0, 1)\n",
    "print(x_permuted)\n",
    "print(image_size_tensor.size())\n",
    "print(x_permuted.size())"
   ]
  },
  {
   "cell_type": "code",
   "execution_count": 82,
   "id": "914a7476",
   "metadata": {},
   "outputs": [
    {
     "name": "stdout",
     "output_type": "stream",
     "text": [
      "tensor([[[1, 2, 3],\n",
      "         [4, 5, 6],\n",
      "         [7, 8, 9]]])\n",
      "tensor([[1, 2, 3],\n",
      "        [4, 5, 6],\n",
      "        [7, 8, 9]])\n",
      "tensor(5)\n",
      "tensor([[3, 6, 9]])\n",
      "tensor([4])\n",
      "tensor([4, 5, 6])\n",
      "tensor([3, 6, 9])\n"
     ]
    }
   ],
   "source": [
    "#indexing\n",
    "x = torch.arange(1, 10).reshape(1, 3, 3)\n",
    "print(x)\n",
    "print(x[0])\n",
    "print(x[0, 1, 1])\n",
    "print(x[:, :, 2])\n",
    "print(x[:, 1, 0])\n",
    "print(x[0, 1, :])\n",
    "print(x[0, :, 2])"
   ]
  },
  {
   "cell_type": "code",
   "execution_count": 101,
   "id": "feeec6d4",
   "metadata": {},
   "outputs": [
    {
     "name": "stdout",
     "output_type": "stream",
     "text": [
      "[1. 2. 3. 4. 5. 6. 7.]\n",
      "tensor([1., 2., 3., 4., 5., 6., 7.])\n",
      "torch.float32\n",
      "[2. 3. 4. 5. 6. 7. 8.]\n",
      "tensor([1., 2., 3., 4., 5., 6., 7.])\n",
      "tensor([1., 1., 1., 1., 1., 1., 1., 1., 1., 1.])\n",
      "[1. 1. 1. 1. 1. 1. 1. 1. 1. 1.]\n",
      "tensor([2., 2., 2., 2., 2., 2., 2., 2., 2., 2.])\n",
      "[1. 1. 1. 1. 1. 1. 1. 1. 1. 1.]\n"
     ]
    }
   ],
   "source": [
    "import numpy as np\n",
    "#numpy to tensor\n",
    "array = np.arange(1.0, 8.0)\n",
    "tensor = torch.from_numpy(array).type(torch.float32)\n",
    "print(array)\n",
    "print(tensor)\n",
    "print(tensor.dtype)\n",
    "array = array+1\n",
    "print(array)\n",
    "print(tensor)\n",
    "\n",
    "#tensor to numpy\n",
    "tensor = torch.ones(10)\n",
    "numpy_tensor = tensor.numpy()\n",
    "print(tensor)\n",
    "print(numpy_tensor)\n",
    "tensor = tensor+1\n",
    "print(tensor)\n",
    "print(numpy_tensor)"
   ]
  },
  {
   "cell_type": "code",
   "execution_count": null,
   "id": "419a4746",
   "metadata": {},
   "outputs": [],
   "source": [
    "#reproducibility\n"
   ]
  }
 ],
 "metadata": {
  "kernelspec": {
   "display_name": "Python 3 (ipykernel)",
   "language": "python",
   "name": "python3"
  },
  "language_info": {
   "codemirror_mode": {
    "name": "ipython",
    "version": 3
   },
   "file_extension": ".py",
   "mimetype": "text/x-python",
   "name": "python",
   "nbconvert_exporter": "python",
   "pygments_lexer": "ipython3",
   "version": "3.10.9"
  }
 },
 "nbformat": 4,
 "nbformat_minor": 5
}
