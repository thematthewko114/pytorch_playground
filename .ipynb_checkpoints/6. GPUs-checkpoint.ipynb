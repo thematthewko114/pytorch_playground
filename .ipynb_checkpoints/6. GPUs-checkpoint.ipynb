{
 "cells": [
  {
   "cell_type": "code",
   "execution_count": 1,
   "id": "7ad32818",
   "metadata": {},
   "outputs": [
    {
     "name": "stdout",
     "output_type": "stream",
     "text": [
      "2.0.0\n",
      "We have a GPU!\n"
     ]
    }
   ],
   "source": [
    "import torch\n",
    "print(torch.__version__)\n",
    "if torch.cuda.is_available():\n",
    "    print('We have a GPU!')\n",
    "else:\n",
    "    print('Sorry, CPU only.')"
   ]
  },
  {
   "cell_type": "code",
   "execution_count": 9,
   "id": "51b05d2d",
   "metadata": {},
   "outputs": [
    {
     "name": "stdout",
     "output_type": "stream",
     "text": [
      "Sun Jun  4 00:28:18 2023       \n",
      "+-----------------------------------------------------------------------------+\n",
      "| NVIDIA-SMI 528.92       Driver Version: 528.92       CUDA Version: 12.0     |\n",
      "|-------------------------------+----------------------+----------------------+\n",
      "| GPU  Name            TCC/WDDM | Bus-Id        Disp.A | Volatile Uncorr. ECC |\n",
      "| Fan  Temp  Perf  Pwr:Usage/Cap|         Memory-Usage | GPU-Util  Compute M. |\n",
      "|                               |                      |               MIG M. |\n",
      "|===============================+======================+======================|\n",
      "|   0  NVIDIA GeForce ... WDDM  | 00000000:01:00.0 Off |                  N/A |\n",
      "| N/A   45C    P0    20W /  65W |      0MiB /  6144MiB |      0%      Default |\n",
      "|                               |                      |                  N/A |\n",
      "+-------------------------------+----------------------+----------------------+\n",
      "                                                                               \n",
      "+-----------------------------------------------------------------------------+\n",
      "| Processes:                                                                  |\n",
      "|  GPU   GI   CI        PID   Type   Process name                  GPU Memory |\n",
      "|        ID   ID                                                   Usage      |\n",
      "|=============================================================================|\n",
      "|  No running processes found                                                 |\n",
      "+-----------------------------------------------------------------------------+\n"
     ]
    }
   ],
   "source": [
    "#check GPU details\n",
    "\n",
    "!nvidia-smi"
   ]
  },
  {
   "cell_type": "code",
   "execution_count": 11,
   "id": "e91210f4",
   "metadata": {},
   "outputs": [
    {
     "name": "stdout",
     "output_type": "stream",
     "text": [
      "Device: cuda\n",
      "Device count: 1\n"
     ]
    }
   ],
   "source": [
    "#device agnostic code\n",
    "\n",
    "device = \"cuda\" if torch.cuda.is_available() else \"cpu\"\n",
    "print(\"Device:\", device)\n",
    "print(\"Device count:\", torch.cuda.device_count())"
   ]
  },
  {
   "cell_type": "code",
   "execution_count": 23,
   "id": "341ca7bb",
   "metadata": {},
   "outputs": [
    {
     "name": "stdout",
     "output_type": "stream",
     "text": [
      "tensor([[0.6004, 0.0484, 0.0350],\n",
      "        [0.3234, 0.0209, 0.4409],\n",
      "        [0.1065, 0.9826, 0.4041]]) cpu\n",
      "tensor([[0.6004, 0.0484, 0.0350],\n",
      "        [0.3234, 0.0209, 0.4409],\n",
      "        [0.1065, 0.9826, 0.4041]], device='cuda:0') cuda:0\n"
     ]
    }
   ],
   "source": [
    "#place tensors in GPU for faster computations\n",
    "\n",
    "tensor_for_gpu = torch.rand(3, 3) #in CPU\n",
    "print(tensor_for_gpu, tensor_for_gpu.device)\n",
    "tensor_for_gpu = tensor_for_gpu.to(device)\n",
    "print(tensor_for_gpu, tensor_for_gpu.device)"
   ]
  },
  {
   "cell_type": "code",
   "execution_count": 24,
   "id": "7f970b1f",
   "metadata": {},
   "outputs": [
    {
     "name": "stdout",
     "output_type": "stream",
     "text": [
      "tensor([[0.6004, 0.0484, 0.0350],\n",
      "        [0.3234, 0.0209, 0.4409],\n",
      "        [0.1065, 0.9826, 0.4041]]) cpu\n",
      "tensor([[0.6004, 0.0484, 0.0350],\n",
      "        [0.3234, 0.0209, 0.4409],\n",
      "        [0.1065, 0.9826, 0.4041]], device='cuda:0') cuda:0\n"
     ]
    }
   ],
   "source": [
    "#place tensors from GPU back to CPU, eg. to use NumPy\n",
    "\n",
    "tensor_for_cpu = tensor_for_gpu.cpu()\n",
    "print(tensor_for_cpu, tensor_for_cpu.device)\n",
    "print(tensor_for_gpu, tensor_for_gpu.device)"
   ]
  },
  {
   "cell_type": "code",
   "execution_count": null,
   "id": "62a5b97c",
   "metadata": {},
   "outputs": [],
   "source": []
  }
 ],
 "metadata": {
  "kernelspec": {
   "display_name": "Python 3 (ipykernel)",
   "language": "python",
   "name": "python3"
  },
  "language_info": {
   "codemirror_mode": {
    "name": "ipython",
    "version": 3
   },
   "file_extension": ".py",
   "mimetype": "text/x-python",
   "name": "python",
   "nbconvert_exporter": "python",
   "pygments_lexer": "ipython3",
   "version": "3.10.9"
  }
 },
 "nbformat": 4,
 "nbformat_minor": 5
}
