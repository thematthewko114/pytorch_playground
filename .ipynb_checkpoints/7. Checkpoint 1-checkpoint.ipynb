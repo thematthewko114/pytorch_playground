{
 "cells": [
  {
   "cell_type": "code",
   "execution_count": 19,
   "id": "1196c314",
   "metadata": {},
   "outputs": [],
   "source": [
    "import torch\n",
    "import numpy as np\n",
    "\n",
    "device = \"cuda\" if torch.cuda.is_available else \"cpu\""
   ]
  },
  {
   "cell_type": "code",
   "execution_count": 5,
   "id": "b8458a8f",
   "metadata": {},
   "outputs": [
    {
     "name": "stdout",
     "output_type": "stream",
     "text": [
      "tensor([[0.6015, 0.0349, 0.1166, 0.9074, 0.7016, 0.4744, 0.5582],\n",
      "        [0.3284, 0.8346, 0.4440, 0.6786, 0.3734, 0.0300, 0.3552],\n",
      "        [0.3333, 0.8930, 0.3600, 0.3409, 0.5996, 0.7914, 0.5517],\n",
      "        [0.9433, 0.9013, 0.6441, 0.6658, 0.3970, 0.9556, 0.9630],\n",
      "        [0.6693, 0.5345, 0.4486, 0.4933, 0.7767, 0.2862, 0.4932],\n",
      "        [0.1647, 0.3311, 0.7793, 0.5160, 0.1238, 0.9936, 0.3269],\n",
      "        [0.7933, 0.4054, 0.4328, 0.9846, 0.7933, 0.8819, 0.2929]])\n",
      "tensor([[0.8195, 0.0643, 0.8674, 0.6878, 0.1482, 0.0157, 0.1761]])\n",
      "tensor([[1.4302],\n",
      "        [1.2930],\n",
      "        [1.0758],\n",
      "        [2.0911],\n",
      "        [1.5178],\n",
      "        [1.2786],\n",
      "        [1.9119]])\n"
     ]
    }
   ],
   "source": [
    "random_tensor_1 = torch.rand(7, 7)\n",
    "print(random_tensor_1)\n",
    "random_tensor_2 = torch.rand(1, 7)\n",
    "print(random_tensor_2)\n",
    "result_1 = torch.matmul(random_tensor_1, random_tensor_2.T)\n",
    "print(result_1)"
   ]
  },
  {
   "cell_type": "code",
   "execution_count": 16,
   "id": "e2290323",
   "metadata": {},
   "outputs": [],
   "source": [
    "torch.manual_seed(1234)\n",
    "torch.cuda.manual_seed(1234)"
   ]
  },
  {
   "cell_type": "code",
   "execution_count": 22,
   "id": "d1706a0d",
   "metadata": {},
   "outputs": [
    {
     "name": "stdout",
     "output_type": "stream",
     "text": [
      "tensor([[0.0290, 0.4019, 0.2598],\n",
      "        [0.3666, 0.0583, 0.7006]], device='cuda:0')\n",
      "tensor([[0.0290, 0.4019, 0.2598],\n",
      "        [0.3666, 0.0583, 0.7006]], device='cuda:0')\n"
     ]
    },
    {
     "data": {
      "text/plain": [
       "tensor([[0.2299, 0.2161],\n",
       "        [0.2161, 0.6287]], device='cuda:0')"
      ]
     },
     "execution_count": 22,
     "metadata": {},
     "output_type": "execute_result"
    }
   ],
   "source": [
    "torch.manual_seed(1234)\n",
    "random_tensor_1 = torch.rand(2, 3).to(device)\n",
    "print(random_tensor_1)\n",
    "torch.manual_seed(1234)\n",
    "random_tensor_2 = torch.rand(2, 3).to(device)\n",
    "print(random_tensor_2)\n",
    "torch.matmul(random_tensor_1, random_tensor_2.T)"
   ]
  },
  {
   "cell_type": "code",
   "execution_count": 28,
   "id": "61105fec",
   "metadata": {},
   "outputs": [
    {
     "name": "stdout",
     "output_type": "stream",
     "text": [
      "tensor([[0.4963, 0.7682, 0.0885],\n",
      "        [0.1320, 0.3074, 0.6341]], device='cuda:0')\n",
      "<torch._C.Generator object at 0x00000296DFC387D0>\n",
      "tensor([[0.4963, 0.7682, 0.0885],\n",
      "        [0.1320, 0.3074, 0.6341]], device='cuda:0')\n",
      "tensor([[0.8443, 0.3578],\n",
      "        [0.3578, 0.5140]], device='cuda:0')\n",
      "tensor(0.8443, device='cuda:0') tensor(0.3578, device='cuda:0')\n",
      "tensor(0, device='cuda:0') tensor(1, device='cuda:0')\n"
     ]
    }
   ],
   "source": [
    "torch.manual_seed(0)\n",
    "random_tensor_1 = torch.rand(2, 3).to(device)\n",
    "print(random_tensor_1)\n",
    "print(torch.manual_seed(0))\n",
    "random_tensor_2 = torch.rand(2, 3).to(device)\n",
    "print(random_tensor_2)\n",
    "result_3 = torch.matmul(random_tensor_1, random_tensor_2.T)\n",
    "print(result_3)\n",
    "print(result_3.max(), result_3.min())\n",
    "print(result_3.argmax(), result_3.argmin())"
   ]
  },
  {
   "cell_type": "code",
   "execution_count": 49,
   "id": "6bcd80ab",
   "metadata": {},
   "outputs": [
    {
     "name": "stdout",
     "output_type": "stream",
     "text": [
      "tensor([[[[0.5349, 0.1988, 0.6592, 0.6569, 0.2328, 0.4251, 0.2071, 0.6297,\n",
      "           0.3653, 0.8513]]]])\n",
      "torch.Size([10])\n"
     ]
    }
   ],
   "source": [
    "torch.manual_seed(7)\n",
    "random_tensor_3 = torch.rand(1, 1, 1, 10)\n",
    "print(random_tensor_3)\n",
    "random_tensor_3 = random_tensor_3.squeeze().squeeze()\n",
    "print(random_tensor_3.shape)"
   ]
  },
  {
   "cell_type": "code",
   "execution_count": null,
   "id": "5cf58e48",
   "metadata": {},
   "outputs": [],
   "source": []
  }
 ],
 "metadata": {
  "kernelspec": {
   "display_name": "Python 3 (ipykernel)",
   "language": "python",
   "name": "python3"
  },
  "language_info": {
   "codemirror_mode": {
    "name": "ipython",
    "version": 3
   },
   "file_extension": ".py",
   "mimetype": "text/x-python",
   "name": "python",
   "nbconvert_exporter": "python",
   "pygments_lexer": "ipython3",
   "version": "3.10.9"
  }
 },
 "nbformat": 4,
 "nbformat_minor": 5
}
