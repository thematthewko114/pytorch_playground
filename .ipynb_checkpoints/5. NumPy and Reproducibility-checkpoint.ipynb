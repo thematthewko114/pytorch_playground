{
 "cells": [
  {
   "cell_type": "code",
   "execution_count": 3,
   "id": "6b4bbf92",
   "metadata": {},
   "outputs": [
    {
     "name": "stdout",
     "output_type": "stream",
     "text": [
      "2.0.0\n",
      "We have a GPU!\n"
     ]
    }
   ],
   "source": [
    "import numpy as np\n",
    "import torch\n",
    "print(torch.__version__)\n",
    "if torch.cuda.is_available():\n",
    "    print('We have a GPU!')\n",
    "else:\n",
    "    print('Sorry, CPU only.')"
   ]
  },
  {
   "cell_type": "code",
   "execution_count": 4,
   "id": "dd4a8dd8",
   "metadata": {},
   "outputs": [
    {
     "name": "stdout",
     "output_type": "stream",
     "text": [
      "[1. 2. 3. 4. 5. 6. 7.]\n",
      "tensor([1., 2., 3., 4., 5., 6., 7.])\n",
      "torch.float32\n",
      "[2. 3. 4. 5. 6. 7. 8.]\n",
      "tensor([1., 2., 3., 4., 5., 6., 7.])\n",
      "tensor([1., 1., 1., 1., 1., 1., 1., 1., 1., 1.])\n",
      "[1. 1. 1. 1. 1. 1. 1. 1. 1. 1.]\n",
      "tensor([2., 2., 2., 2., 2., 2., 2., 2., 2., 2.])\n",
      "[1. 1. 1. 1. 1. 1. 1. 1. 1. 1.]\n"
     ]
    }
   ],
   "source": [
    "#numpy to tensor\n",
    "\n",
    "array = np.arange(1.0, 8.0)\n",
    "tensor = torch.from_numpy(array).type(torch.float32)\n",
    "print(array)\n",
    "print(tensor)\n",
    "print(tensor.dtype)\n",
    "array = array+1\n",
    "print(array)\n",
    "print(tensor)\n",
    "\n",
    "#tensor to numpy\n",
    "tensor = torch.ones(10)\n",
    "numpy_tensor = tensor.numpy()\n",
    "print(tensor)\n",
    "print(numpy_tensor)\n",
    "tensor = tensor+1\n",
    "print(tensor)\n",
    "print(numpy_tensor)"
   ]
  },
  {
   "cell_type": "code",
   "execution_count": 5,
   "id": "b15521f5",
   "metadata": {},
   "outputs": [
    {
     "name": "stdout",
     "output_type": "stream",
     "text": [
      "tensor([[0.5788, 0.1888, 0.1428, 0.9920],\n",
      "        [0.7851, 0.4509, 0.7544, 0.4175],\n",
      "        [0.2905, 0.8152, 0.6008, 0.4150]])\n",
      "tensor([[0.3011, 0.9530, 0.9492, 0.5296],\n",
      "        [0.7280, 0.5272, 0.2579, 0.7540],\n",
      "        [0.5932, 0.1694, 0.6251, 0.2598]])\n"
     ]
    }
   ],
   "source": [
    "#reproducibility\n",
    "\n",
    "#random seeds\n",
    "rand_tensor_1 = torch.rand(3, 4)\n",
    "rand_tensor_2 = torch.rand(3, 4)\n",
    "print(rand_tensor_1)\n",
    "print(rand_tensor_2)"
   ]
  },
  {
   "cell_type": "code",
   "execution_count": null,
   "id": "e2694c80",
   "metadata": {},
   "outputs": [],
   "source": []
  }
 ],
 "metadata": {
  "kernelspec": {
   "display_name": "Python 3 (ipykernel)",
   "language": "python",
   "name": "python3"
  },
  "language_info": {
   "codemirror_mode": {
    "name": "ipython",
    "version": 3
   },
   "file_extension": ".py",
   "mimetype": "text/x-python",
   "name": "python",
   "nbconvert_exporter": "python",
   "pygments_lexer": "ipython3",
   "version": "3.10.9"
  }
 },
 "nbformat": 4,
 "nbformat_minor": 5
}
