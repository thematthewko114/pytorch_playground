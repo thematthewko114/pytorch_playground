{
 "cells": [
  {
   "cell_type": "code",
   "execution_count": 100,
   "id": "19f8a95b",
   "metadata": {},
   "outputs": [
    {
     "name": "stdout",
     "output_type": "stream",
     "text": [
      "2.0.0\n",
      "We have a GPU!\n"
     ]
    }
   ],
   "source": [
    "import torch\n",
    "print(torch.__version__)\n",
    "if torch.cuda.is_available():\n",
    "    print('We have a GPU!')\n",
    "else:\n",
    "    print('Sorry, CPU only.')"
   ]
  },
  {
   "cell_type": "code",
   "execution_count": 101,
   "id": "bc452906",
   "metadata": {},
   "outputs": [
    {
     "data": {
      "text/plain": [
       "4"
      ]
     },
     "execution_count": 101,
     "metadata": {},
     "output_type": "execute_result"
    }
   ],
   "source": [
    "scalar = torch.tensor(4)\n",
    "scalar.item()"
   ]
  },
  {
   "cell_type": "code",
   "execution_count": 102,
   "id": "42ff5467",
   "metadata": {},
   "outputs": [
    {
     "name": "stdout",
     "output_type": "stream",
     "text": [
      "3\n",
      "torch.Size([2, 3, 3])\n",
      "torch.Size([3, 3])\n",
      "cpu\n",
      "torch.float32\n",
      "torch.float32\n",
      "torch.float16\n"
     ]
    }
   ],
   "source": [
    "#tensor\n",
    "vector_set = torch.tensor([[[1,2,3],[4,5,6],[7,8,9]], [[1,2,3],[4,5,6],[7,8,9]]])\n",
    "simple_vector_1 = torch.tensor([1, 2, 3], dtype=torch.float32)\n",
    "simple_vector_2 = torch.tensor([4.2, 5.6, 7.6])\n",
    "multiplied_vector_3 = simple_vector_1 * simple_vector_2\n",
    "print(vector_set.ndim)\n",
    "print(vector_set.shape)\n",
    "print(vector_set[0].size())\n",
    "print(vector_set.device)\n",
    "print(simple_vector_1.dtype)\n",
    "print(multiplied_vector_3.dtype) #default int64, if floating number exists, float32\n",
    "float16_tensor = torch.tensor([3.0, 6.0, 9.0], dtype=torch.float16, device=None, requires_grad=False)\n",
    "print(float16_tensor.dtype)"
   ]
  },
  {
   "cell_type": "code",
   "execution_count": 103,
   "id": "71352f65",
   "metadata": {},
   "outputs": [
    {
     "data": {
      "text/plain": [
       "torch.Size([2, 3, 3])"
      ]
     },
     "execution_count": 103,
     "metadata": {},
     "output_type": "execute_result"
    }
   ],
   "source": [
    "vector.shape"
   ]
  },
  {
   "cell_type": "code",
   "execution_count": 104,
   "id": "de5a7ff6",
   "metadata": {},
   "outputs": [
    {
     "name": "stdout",
     "output_type": "stream",
     "text": [
      "tensor([[0.5530, 0.9102, 0.7735],\n",
      "        [0.1469, 0.9217, 0.6046]])\n"
     ]
    }
   ],
   "source": [
    "#creating tensors\n",
    "tensor_random = torch.rand(2, 3)\n",
    "print(tensor_random)\n",
    "#image tensor: height, width, color channels (RGB)\n",
    "image_size_tensor = torch.rand(size=(224, 224, 3))"
   ]
  },
  {
   "cell_type": "code",
   "execution_count": 105,
   "id": "3ec63283",
   "metadata": {},
   "outputs": [
    {
     "name": "stdout",
     "output_type": "stream",
     "text": [
      "tensor([[1, 2],\n",
      "        [3, 4]])\n",
      "Shape of tensor: torch.Size([2, 2])\n",
      "Datatype of tensor: torch.int64\n",
      "Device tensor is stored on: cpu\n"
     ]
    }
   ],
   "source": [
    "data = [[1, 2],[3, 4]]\n",
    "x_data = torch.tensor(data)\n",
    "print(x_data)\n",
    "print(f\"Shape of tensor: {x_data.shape}\")\n",
    "print(f\"Datatype of tensor: {x_data.dtype}\")\n",
    "print(f\"Device tensor is stored on: {x_data.device}\")"
   ]
  },
  {
   "cell_type": "code",
   "execution_count": 106,
   "id": "920b5905",
   "metadata": {},
   "outputs": [
    {
     "data": {
      "text/plain": [
       "torch.float32"
      ]
     },
     "execution_count": 106,
     "metadata": {},
     "output_type": "execute_result"
    }
   ],
   "source": [
    "#zeros tensor\n",
    "zero_tensor = torch.zeros(size=(2, 3))\n",
    "#ones tensor\n",
    "ones_tensor = torch.ones(size=(2, 3))\n",
    "ones_tensor.dtype"
   ]
  },
  {
   "cell_type": "code",
   "execution_count": 107,
   "id": "8e3c9a07",
   "metadata": {},
   "outputs": [
    {
     "data": {
      "text/plain": [
       "tensor([ 2,  4,  6,  8, 10])"
      ]
     },
     "execution_count": 107,
     "metadata": {},
     "output_type": "execute_result"
    }
   ],
   "source": [
    "#range and steps\n",
    "range_tensor = torch.arange(1, 10)\n",
    "range_tensor\n",
    "step_tensor = torch.arange(start = 2, end = 11, step = 2)\n",
    "step_tensor"
   ]
  },
  {
   "cell_type": "code",
   "execution_count": 108,
   "id": "a3248644",
   "metadata": {},
   "outputs": [
    {
     "data": {
      "text/plain": [
       "torch.float32"
      ]
     },
     "execution_count": 108,
     "metadata": {},
     "output_type": "execute_result"
    }
   ],
   "source": [
    "#tensor data type\n",
    "float16_tensor = torch.tensor([3.0, 6.0, 9.0], dtype=None, device=None, requires_grad=False)\n",
    "float16_tensor.dtype"
   ]
  },
  {
   "cell_type": "code",
   "execution_count": 109,
   "id": "232d10fe",
   "metadata": {},
   "outputs": [
    {
     "name": "stdout",
     "output_type": "stream",
     "text": [
      "torch.Size([3])\n",
      "torch.Size([3])\n"
     ]
    }
   ],
   "source": [
    "#data type coersion and check shape\n",
    "int32_tensor = torch.tensor([3, 4, 5], dtype=torch.long)\n",
    "print(int32_tensor.size())\n",
    "print(int32_tensor.shape)"
   ]
  },
  {
   "cell_type": "code",
   "execution_count": 110,
   "id": "c9c324ff",
   "metadata": {},
   "outputs": [
    {
     "name": "stdout",
     "output_type": "stream",
     "text": [
      "tensor([ 9., 24., 45.])\n",
      "torch.float32\n",
      "cpu\n"
     ]
    }
   ],
   "source": [
    "multiplied_tensor = float16_tensor * int32_tensor\n",
    "print(multiplied_tensor)\n",
    "print(multiplied_tensor.dtype)\n",
    "print(multiplied_tensor.device)"
   ]
  },
  {
   "cell_type": "code",
   "execution_count": 111,
   "id": "57ed5ac0",
   "metadata": {},
   "outputs": [
    {
     "name": "stdout",
     "output_type": "stream",
     "text": [
      "tensor([5.0000, 3.0000, 2.3333])\n",
      "torch.float32\n"
     ]
    }
   ],
   "source": [
    "int32_tensor_2 = torch.tensor([5,6,7])\n",
    "int32_tensor_3 = torch.tensor([1,2,3])\n",
    "division_tensor = int32_tensor_2 / int32_tensor_3\n",
    "print(division_tensor)\n",
    "print(division_tensor.dtype)"
   ]
  },
  {
   "cell_type": "code",
   "execution_count": 112,
   "id": "de87791b",
   "metadata": {},
   "outputs": [
    {
     "name": "stdout",
     "output_type": "stream",
     "text": [
      "torch.float32\n",
      "torch.float16\n",
      "tensor([1.0996, 2.1992, 3.3008], dtype=torch.float16)\n"
     ]
    }
   ],
   "source": [
    "#tensor type conversion\n",
    "old_tensor = torch.tensor([1.1, 2.2, 3.3], dtype=torch.float32)\n",
    "print(old_tensor.dtype)\n",
    "new_tensor = old_tensor.type(torch.float16)\n",
    "print(new_tensor.dtype)\n",
    "print(new_tensor)"
   ]
  },
  {
   "cell_type": "code",
   "execution_count": 113,
   "id": "36274b35",
   "metadata": {},
   "outputs": [
    {
     "name": "stdout",
     "output_type": "stream",
     "text": [
      "tensor([1.0996, 2.1992, 3.3008], dtype=torch.float16)\n",
      "tensor([11., 22., 33.], dtype=torch.float16)\n",
      "tensor([11., 22., 33.], dtype=torch.float16)\n"
     ]
    }
   ],
   "source": [
    "#tensor manipulation (built-in): vector-scalar multiplication\n",
    "print(new_tensor)\n",
    "#use * in python unless specified for simplification (simple operation only)\n",
    "print(new_tensor*10)\n",
    "print(torch.mul(new_tensor, 10))"
   ]
  },
  {
   "cell_type": "code",
   "execution_count": 114,
   "id": "9a076fd2",
   "metadata": {},
   "outputs": [
    {
     "name": "stdout",
     "output_type": "stream",
     "text": [
      "tensor([1.1000, 2.2000, 3.3000])\n",
      "tensor([ 1.2100,  4.8400, 10.8900])\n",
      "tensor(16.9400)\n",
      "tensor([[[19, 22],\n",
      "         [43, 50]]])\n",
      "CPU times: total: 0 ns\n",
      "Wall time: 0 ns\n"
     ]
    }
   ],
   "source": [
    "%%time\n",
    "#matrix multiplcation: dot product\n",
    "print(old_tensor)\n",
    "print(old_tensor*old_tensor)\n",
    "print(torch.matmul(old_tensor, old_tensor))\n",
    "matrix22_1 = torch.tensor([[[1, 2], [3, 4]]])\n",
    "matrix22_2 = torch.tensor([[[5, 6], [7, 8]]])\n",
    "print(torch.matmul(matrix22_1, matrix22_2))"
   ]
  },
  {
   "cell_type": "code",
   "execution_count": 115,
   "id": "f7a9afc1",
   "metadata": {},
   "outputs": [
    {
     "ename": "RuntimeError",
     "evalue": "mat1 and mat2 shapes cannot be multiplied (2x2 and 3x3)",
     "output_type": "error",
     "traceback": [
      "\u001b[1;31m---------------------------------------------------------------------------\u001b[0m",
      "\u001b[1;31mRuntimeError\u001b[0m                              Traceback (most recent call last)",
      "Cell \u001b[1;32mIn[115], line 3\u001b[0m\n\u001b[0;32m      1\u001b[0m \u001b[38;5;66;03m#errors in matrix multiplication\u001b[39;00m\n\u001b[0;32m      2\u001b[0m matrix33_1 \u001b[38;5;241m=\u001b[39m torch\u001b[38;5;241m.\u001b[39mtensor([[\u001b[38;5;241m1\u001b[39m, \u001b[38;5;241m2\u001b[39m, \u001b[38;5;241m3\u001b[39m], [\u001b[38;5;241m4\u001b[39m, \u001b[38;5;241m5\u001b[39m, \u001b[38;5;241m6\u001b[39m], [\u001b[38;5;241m7\u001b[39m, \u001b[38;5;241m8\u001b[39m, \u001b[38;5;241m9\u001b[39m]])\n\u001b[1;32m----> 3\u001b[0m \u001b[38;5;28mprint\u001b[39m(\u001b[43mtorch\u001b[49m\u001b[38;5;241;43m.\u001b[39;49m\u001b[43mmatmul\u001b[49m\u001b[43m(\u001b[49m\u001b[43mmatrix22_1\u001b[49m\u001b[43m,\u001b[49m\u001b[43m \u001b[49m\u001b[43mmatrix33_1\u001b[49m\u001b[43m)\u001b[49m)\n",
      "\u001b[1;31mRuntimeError\u001b[0m: mat1 and mat2 shapes cannot be multiplied (2x2 and 3x3)"
     ]
    }
   ],
   "source": [
    "#errors in matrix multiplication\n",
    "matrix33_1 = torch.tensor([[1, 2, 3], [4, 5, 6], [7, 8, 9]])\n",
    "print(torch.matmul(matrix22_1, matrix33_1))"
   ]
  },
  {
   "cell_type": "code",
   "execution_count": 1,
   "id": "bd3ee2c8",
   "metadata": {},
   "outputs": [
    {
     "ename": "NameError",
     "evalue": "name 'torch' is not defined",
     "output_type": "error",
     "traceback": [
      "\u001b[1;31m---------------------------------------------------------------------------\u001b[0m",
      "\u001b[1;31mNameError\u001b[0m                                 Traceback (most recent call last)",
      "Cell \u001b[1;32mIn[1], line 2\u001b[0m\n\u001b[0;32m      1\u001b[0m \u001b[38;5;66;03m#matrix transpose\u001b[39;00m\n\u001b[1;32m----> 2\u001b[0m matrix23_1 \u001b[38;5;241m=\u001b[39m \u001b[43mtorch\u001b[49m\u001b[38;5;241m.\u001b[39mtensor([[\u001b[38;5;241m1\u001b[39m, \u001b[38;5;241m2\u001b[39m, \u001b[38;5;241m3\u001b[39m], [\u001b[38;5;241m4\u001b[39m, \u001b[38;5;241m5\u001b[39m, \u001b[38;5;241m6\u001b[39m]])\n\u001b[0;32m      3\u001b[0m \u001b[38;5;28mprint\u001b[39m(matrix23_1\u001b[38;5;241m.\u001b[39mT)\n\u001b[0;32m      4\u001b[0m \u001b[38;5;28mprint\u001b[39m(matrix23_1\u001b[38;5;241m.\u001b[39mshape)\n",
      "\u001b[1;31mNameError\u001b[0m: name 'torch' is not defined"
     ]
    }
   ],
   "source": [
    "#matrix transpose\n",
    "matrix23_1 = torch.tensor([[1, 2, 3], [4, 5, 6]])\n",
    "print(matrix23_1.T)\n",
    "print(matrix23_1.shape)\n",
    "print(matrix23_1.T.shape)\n",
    "print(torch.matmul(matrix22_1, matrix23_1))"
   ]
  },
  {
   "cell_type": "code",
   "execution_count": null,
   "id": "0bbe8640",
   "metadata": {},
   "outputs": [],
   "source": []
  }
 ],
 "metadata": {
  "kernelspec": {
   "display_name": "Python 3 (ipykernel)",
   "language": "python",
   "name": "python3"
  },
  "language_info": {
   "codemirror_mode": {
    "name": "ipython",
    "version": 3
   },
   "file_extension": ".py",
   "mimetype": "text/x-python",
   "name": "python",
   "nbconvert_exporter": "python",
   "pygments_lexer": "ipython3",
   "version": "3.10.9"
  }
 },
 "nbformat": 4,
 "nbformat_minor": 5
}
